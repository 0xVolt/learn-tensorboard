{
 "cells": [
  {
   "attachments": {},
   "cell_type": "markdown",
   "metadata": {},
   "source": [
    "# Create a CNN for Image Classification on the Fashion MNIST Dataset"
   ]
  },
  {
   "cell_type": "code",
   "execution_count": 1,
   "metadata": {},
   "outputs": [
    {
     "name": "stderr",
     "output_type": "stream",
     "text": [
      "2023-06-15 16:15:12.277718: W tensorflow/stream_executor/platform/default/dso_loader.cc:64] Could not load dynamic library 'libcudart.so.11.0'; dlerror: libcudart.so.11.0: cannot open shared object file: No such file or directory\n",
      "2023-06-15 16:15:12.277736: I tensorflow/stream_executor/cuda/cudart_stub.cc:29] Ignore above cudart dlerror if you do not have a GPU set up on your machine.\n"
     ]
    }
   ],
   "source": [
    "import matplotlib.pyplot as plt\n",
    "import numpy as np\n",
    "import tensorflow as tf\n",
    "from tensorflow import keras"
   ]
  },
  {
   "attachments": {},
   "cell_type": "markdown",
   "metadata": {},
   "source": [
    "Load the Fashion MNIST dataset from the keras API."
   ]
  },
  {
   "cell_type": "code",
   "execution_count": 2,
   "metadata": {},
   "outputs": [],
   "source": [
    "dataset = tf.keras.datasets.fashion_mnist"
   ]
  },
  {
   "attachments": {},
   "cell_type": "markdown",
   "metadata": {},
   "source": [
    "Split the data into training and testing datasets."
   ]
  },
  {
   "cell_type": "code",
   "execution_count": 3,
   "metadata": {},
   "outputs": [],
   "source": [
    "(XTrain, yTrain), (XTest, yTest) = dataset.load_data()"
   ]
  },
  {
   "attachments": {},
   "cell_type": "markdown",
   "metadata": {},
   "source": [
    "Here's how the training data looks. We can see that it's 60000 images each with 28x28 pixel values ranging from 0-255."
   ]
  },
  {
   "cell_type": "code",
   "execution_count": 4,
   "metadata": {},
   "outputs": [
    {
     "data": {
      "text/plain": [
       "((60000, 28, 28), (60000,))"
      ]
     },
     "execution_count": 4,
     "metadata": {},
     "output_type": "execute_result"
    }
   ],
   "source": [
    "XTrain.shape, yTrain.shape"
   ]
  },
  {
   "attachments": {},
   "cell_type": "markdown",
   "metadata": {},
   "source": [
    "Now checking to see whether we can visualise the 987th image in the training images dataset."
   ]
  },
  {
   "cell_type": "code",
   "execution_count": 5,
   "metadata": {},
   "outputs": [],
   "source": [
    "index = 987"
   ]
  },
  {
   "cell_type": "code",
   "execution_count": 6,
   "metadata": {},
   "outputs": [
    {
     "name": "stdout",
     "output_type": "stream",
     "text": [
      "Label: 6\n",
      "Image Pixel Values:\n",
      "[[  0   0   0   0   0   0   0   0   0   0   0   0   0   0   0   0   0   0   0   0   0   0   0   0   0   0   0   0]\n",
      " [  0   0   0   0   0   0   0   0   0   0   0   0   1   0   0   0  23 190 121 173 133   0   0   0   0   0   0   0]\n",
      " [  0   0   0   0   0   0   0   0   1   0   0   3   0   0   0   3 178 220 173 202 224  37   0   0   0   0   1   0]\n",
      " [  0   0   0   0   0   0   0   0   1   2   3   0   7  96 153 193 206 221 219 205 193 186 170 110  34   0   0   0]\n",
      " [  0   0   0   0   0   0   0   0   0   0   0  23 172 178 182 149 176 232 191 170 207 146 169 181 168  97   0   0]\n",
      " [  0   0   0   0   0   0   0   5   6  15   0 139 191 145 169 172 157 159 186 166 153 159 143 146 160 205   0   0]\n",
      " [  0   0   0   0   0   0  14  42   0   8   0 176 222 175 168 167 160 170 160 166 164 158 155 156 164 188  33   0]\n",
      " [  0   0   0   1   7   0  15  33  73  65  34   0  71 145 209 207 166 163 163 164 159 154 158 138 192 188 103   0]\n",
      " [  0   0   6  10   7   8   9   3  70  34  32   0   0   0   2 131 197 158 155 160 156 156 160 142 212 178 155   0]\n",
      " [  0   1  29   4   0   6   5  10   0   3   0   3   6   4   0   0 195 167 158 167 159 158 165 164 239 167 192   1]\n",
      " [  0  10  32   0  12   9   4   7  16   7  12   5   4   2  10   0 132 198 153 171 162 164 156 170 237 163 205  42]\n",
      " [  0  15  23   9   5  10   6   4   7   8   7   4   7   9  18   0  51 207 144 165 158 168 160 189 253 163 199  87]\n",
      " [  0  19  11  23   5  10   8   6   7   7   9   7   7   6  22   0   0 200 170 168 160 168 175 178 205 182 183 137]\n",
      " [  0  25   3  41   6   8   8   9  10   9   9   9   9   7  24  10   0 166 172 162 171 169 186 175 142 238 181 135]\n",
      " [  1  29   0  56   9   6   9  10  12  10  10  10  11   6  27  15   0 114 208 163 172 169 186 188 122 238 181 141]\n",
      " [  8  25   0  41  11   9   9   8  10  10   9  10  10   4  20  16   0  52 211 163 172 167 200 185  78 215 189 145]\n",
      " [  9  18   4  41  11   8  14   7   9   9   9   9   8   0  85   0   0  16 209 164 173 167 200 195  84 227 192 130]\n",
      " [ 10  15   5  42   8   7  18   8  10   9  10   9  11   0 163  11   0   3 194 172 175 170 204 206  90 236 199 100]\n",
      " [ 11  12   6  39   9  10  16   6  11   9  10   8  14   0 146  42   0   2 190 173 175 172 204 212  84 240 204  71]\n",
      " [ 17  10   7  37   9  15  15   5  12   9  10   7  17   0 150  41   0  11 223 173 175 170 204 222  62 191 182  35]\n",
      " [ 20   8   8  36   8  17  15   5  14   8   9   7  17   0 179  22   0  33 202 179 173 176 195 215  91 252 253   6]\n",
      " [ 19   6  14  29  11  19  11   9  14   9  11   8  18   0 172  24   0  52 190 177 173 172 186 255   0  70  97   0]\n",
      " [ 21   6  15  23  16  19  10   9  12  10  11   9  17   0 171  34   0 110 217 192 192 190 209 170   0   0   0   0]\n",
      " [ 27   7  17  16  22  20   9   8  14  11  12  10  16   1  66  16   0 104 185 141 131 126  71   0   0   2   4   0]\n",
      " [ 33   6  21   9  29  21   8   8  14  12  12  11  14  12  25  12  23  17   0   0   0   0   0   0   3   0   0   0]\n",
      " [ 36  14  25  14  30  19   7   8  15  16  15  14  14  15  33   4  27  24   0   0   0   1   4   4   1   2   2   0]\n",
      " [  9   7   5  12  37  19   6   8  11   9  11   9  11  20   7   0   0   0   0   0   0   0   0   0   0   0   0   0]\n",
      " [  0   0   0   0  21  15   7  12  16  14  15  12  14  14   0   0   0   0   0   0   0   0   0   0   0   1   1   0]]\n"
     ]
    },
    {
     "data": {
      "text/plain": [
       "<matplotlib.image.AxesImage at 0x7f4a33d9f130>"
      ]
     },
     "execution_count": 6,
     "metadata": {},
     "output_type": "execute_result"
    },
    {
     "data": {
      "image/png": "[encoded data removed]",
      "text/plain": [
       "<Figure size 640x480 with 1 Axes>"
      ]
     },
     "metadata": {},
     "output_type": "display_data"
    }
   ],
   "source": [
    "np.set_printoptions(linewidth=300)\n",
    "\n",
    "image = XTrain[index]\n",
    "label = yTrain[index]\n",
    "\n",
    "print(f'Label: {label}\\nImage Pixel Values:\\n{image}')\n",
    "plt.imshow(image, cmap='Greys')"
   ]
  },
  {
   "attachments": {},
   "cell_type": "markdown",
   "metadata": {},
   "source": [
    "Now, before we create a neural network and pass this data to train it, we need to normalise our data. We do this by dividing every pixel value in all the images across the datasets by 255."
   ]
  },
  {
   "cell_type": "code",
   "execution_count": 7,
   "metadata": {},
   "outputs": [],
   "source": [
    "XTrain = XTrain / 255.0\n",
    "XTest = XTest / 255.0"
   ]
  },
  {
   "attachments": {},
   "cell_type": "markdown",
   "metadata": {},
   "source": [
    "Checking the documentation for the `Flatten` layer that we can import as `tf.keras.layers.Flatten()`."
   ]
  },
  {
   "cell_type": "code",
   "execution_count": 8,
   "metadata": {},
   "outputs": [
    {
     "name": "stdout",
     "output_type": "stream",
     "text": [
      "\u001b[0;31mInit signature:\u001b[0m \u001b[0mtf\u001b[0m\u001b[0;34m.\u001b[0m\u001b[0mkeras\u001b[0m\u001b[0;34m.\u001b[0m\u001b[0mlayers\u001b[0m\u001b[0;34m.\u001b[0m\u001b[0mFlatten\u001b[0m\u001b[0;34m(\u001b[0m\u001b[0mdata_format\u001b[0m\u001b[0;34m=\u001b[0m\u001b[0;32mNone\u001b[0m\u001b[0;34m,\u001b[0m \u001b[0;34m**\u001b[0m\u001b[0mkwargs\u001b[0m\u001b[0;34m)\u001b[0m\u001b[0;34m\u001b[0m\u001b[0;34m\u001b[0m\u001b[0m\n",
      "\u001b[0;31mSource:\u001b[0m        \n",
      "\u001b[0;34m@\u001b[0m\u001b[0mkeras_export\u001b[0m\u001b[0;34m(\u001b[0m\u001b[0;34m'keras.layers.Flatten'\u001b[0m\u001b[0;34m)\u001b[0m\u001b[0;34m\u001b[0m\n",
      "\u001b[0;34m\u001b[0m\u001b[0;32mclass\u001b[0m \u001b[0mFlatten\u001b[0m\u001b[0;34m(\u001b[0m\u001b[0mLayer\u001b[0m\u001b[0;34m)\u001b[0m\u001b[0;34m:\u001b[0m\u001b[0;34m\u001b[0m\n",
      "\u001b[0;34m\u001b[0m  \u001b[0;34m\"\"\"Flattens the input. Does not affect the batch size.\u001b[0m\n",
      "\u001b[0;34m\u001b[0m\n",
      "\u001b[0;34m  Note: If inputs are shaped `(batch,)` without a feature axis, then\u001b[0m\n",
      "\u001b[0;34m  flattening adds an extra channel dimension and output shape is `(batch, 1)`.\u001b[0m\n",
      "\u001b[0;34m\u001b[0m\n",
      "\u001b[0;34m  Args:\u001b[0m\n",
      "\u001b[0;34m    data_format: A string,\u001b[0m\n",
      "\u001b[0;34m      one of `channels_last` (default) or `channels_first`.\u001b[0m\n",
      "\u001b[0;34m      The ordering of the dimensions in the inputs.\u001b[0m\n",
      "\u001b[0;34m      `channels_last` corresponds to inputs with shape\u001b[0m\n",
      "\u001b[0;34m      `(batch, ..., channels)` while `channels_first` corresponds to\u001b[0m\n",
      "\u001b[0;34m      inputs with shape `(batch, channels, ...)`.\u001b[0m\n",
      "\u001b[0;34m      It defaults to the `image_data_format` value found in your\u001b[0m\n",
      "\u001b[0;34m      Keras config file at `~/.keras/keras.json`.\u001b[0m\n",
      "\u001b[0;34m      If you never set it, then it will be \"channels_last\".\u001b[0m\n",
      "\u001b[0;34m\u001b[0m\n",
      "\u001b[0;34m  Example:\u001b[0m\n",
      "\u001b[0;34m\u001b[0m\n",
      "\u001b[0;34m  >>> model = tf.keras.Sequential()\u001b[0m\n",
      "\u001b[0;34m  >>> model.add(tf.keras.layers.Conv2D(64, 3, 3, input_shape=(3, 32, 32)))\u001b[0m\n",
      "\u001b[0;34m  >>> model.output_shape\u001b[0m\n",
      "\u001b[0;34m  (None, 1, 10, 64)\u001b[0m\n",
      "\u001b[0;34m\u001b[0m\n",
      "\u001b[0;34m  >>> model.add(Flatten())\u001b[0m\n",
      "\u001b[0;34m  >>> model.output_shape\u001b[0m\n",
      "\u001b[0;34m  (None, 640)\u001b[0m\n",
      "\u001b[0;34m\u001b[0m\n",
      "\u001b[0;34m  \"\"\"\u001b[0m\u001b[0;34m\u001b[0m\n",
      "\u001b[0;34m\u001b[0m\u001b[0;34m\u001b[0m\n",
      "\u001b[0;34m\u001b[0m  \u001b[0;32mdef\u001b[0m \u001b[0m__init__\u001b[0m\u001b[0;34m(\u001b[0m\u001b[0mself\u001b[0m\u001b[0;34m,\u001b[0m \u001b[0mdata_format\u001b[0m\u001b[0;34m=\u001b[0m\u001b[0;32mNone\u001b[0m\u001b[0;34m,\u001b[0m \u001b[0;34m**\u001b[0m\u001b[0mkwargs\u001b[0m\u001b[0;34m)\u001b[0m\u001b[0;34m:\u001b[0m\u001b[0;34m\u001b[0m\n",
      "\u001b[0;34m\u001b[0m    \u001b[0msuper\u001b[0m\u001b[0;34m(\u001b[0m\u001b[0mFlatten\u001b[0m\u001b[0;34m,\u001b[0m \u001b[0mself\u001b[0m\u001b[0;34m)\u001b[0m\u001b[0;34m.\u001b[0m\u001b[0m__init__\u001b[0m\u001b[0;34m(\u001b[0m\u001b[0;34m**\u001b[0m\u001b[0mkwargs\u001b[0m\u001b[0;34m)\u001b[0m\u001b[0;34m\u001b[0m\n",
      "\u001b[0;34m\u001b[0m    \u001b[0mself\u001b[0m\u001b[0;34m.\u001b[0m\u001b[0mdata_format\u001b[0m \u001b[0;34m=\u001b[0m \u001b[0mconv_utils\u001b[0m\u001b[0;34m.\u001b[0m\u001b[0mnormalize_data_format\u001b[0m\u001b[0;34m(\u001b[0m\u001b[0mdata_format\u001b[0m\u001b[0;34m)\u001b[0m\u001b[0;34m\u001b[0m\n",
      "\u001b[0;34m\u001b[0m    \u001b[0mself\u001b[0m\u001b[0;34m.\u001b[0m\u001b[0minput_spec\u001b[0m \u001b[0;34m=\u001b[0m \u001b[0mInputSpec\u001b[0m\u001b[0;34m(\u001b[0m\u001b[0mmin_ndim\u001b[0m\u001b[0;34m=\u001b[0m\u001b[0;36m1\u001b[0m\u001b[0;34m)\u001b[0m\u001b[0;34m\u001b[0m\n",
      "\u001b[0;34m\u001b[0m    \u001b[0mself\u001b[0m\u001b[0;34m.\u001b[0m\u001b[0m_channels_first\u001b[0m \u001b[0;34m=\u001b[0m \u001b[0mself\u001b[0m\u001b[0;34m.\u001b[0m\u001b[0mdata_format\u001b[0m \u001b[0;34m==\u001b[0m \u001b[0;34m'channels_first'\u001b[0m\u001b[0;34m\u001b[0m\n",
      "\u001b[0;34m\u001b[0m\u001b[0;34m\u001b[0m\n",
      "\u001b[0;34m\u001b[0m  \u001b[0;32mdef\u001b[0m \u001b[0mcall\u001b[0m\u001b[0;34m(\u001b[0m\u001b[0mself\u001b[0m\u001b[0;34m,\u001b[0m \u001b[0minputs\u001b[0m\u001b[0;34m)\u001b[0m\u001b[0;34m:\u001b[0m\u001b[0;34m\u001b[0m\n",
      "\u001b[0;34m\u001b[0m    \u001b[0;32mif\u001b[0m \u001b[0mself\u001b[0m\u001b[0;34m.\u001b[0m\u001b[0m_channels_first\u001b[0m\u001b[0;34m:\u001b[0m\u001b[0;34m\u001b[0m\n",
      "\u001b[0;34m\u001b[0m      \u001b[0mrank\u001b[0m \u001b[0;34m=\u001b[0m \u001b[0minputs\u001b[0m\u001b[0;34m.\u001b[0m\u001b[0mshape\u001b[0m\u001b[0;34m.\u001b[0m\u001b[0mrank\u001b[0m\u001b[0;34m\u001b[0m\n",
      "\u001b[0;34m\u001b[0m      \u001b[0;32mif\u001b[0m \u001b[0mrank\u001b[0m \u001b[0;32mand\u001b[0m \u001b[0mrank\u001b[0m \u001b[0;34m>\u001b[0m \u001b[0;36m1\u001b[0m\u001b[0;34m:\u001b[0m\u001b[0;34m\u001b[0m\n",
      "\u001b[0;34m\u001b[0m        \u001b[0;31m# Switch to channels-last format.\u001b[0m\u001b[0;34m\u001b[0m\n",
      "\u001b[0;34m\u001b[0m        \u001b[0mpermutation\u001b[0m \u001b[0;34m=\u001b[0m \u001b[0;34m[\u001b[0m\u001b[0;36m0\u001b[0m\u001b[0;34m]\u001b[0m\u001b[0;34m\u001b[0m\n",
      "\u001b[0;34m\u001b[0m        \u001b[0mpermutation\u001b[0m\u001b[0;34m.\u001b[0m\u001b[0mextend\u001b[0m\u001b[0;34m(\u001b[0m\u001b[0mrange\u001b[0m\u001b[0;34m(\u001b[0m\u001b[0;36m2\u001b[0m\u001b[0;34m,\u001b[0m \u001b[0mrank\u001b[0m\u001b[0;34m)\u001b[0m\u001b[0;34m)\u001b[0m\u001b[0;34m\u001b[0m\n",
      "\u001b[0;34m\u001b[0m        \u001b[0mpermutation\u001b[0m\u001b[0;34m.\u001b[0m\u001b[0mappend\u001b[0m\u001b[0;34m(\u001b[0m\u001b[0;36m1\u001b[0m\u001b[0;34m)\u001b[0m\u001b[0;34m\u001b[0m\n",
      "\u001b[0;34m\u001b[0m        \u001b[0minputs\u001b[0m \u001b[0;34m=\u001b[0m \u001b[0mtf\u001b[0m\u001b[0;34m.\u001b[0m\u001b[0mtranspose\u001b[0m\u001b[0;34m(\u001b[0m\u001b[0minputs\u001b[0m\u001b[0;34m,\u001b[0m \u001b[0mperm\u001b[0m\u001b[0;34m=\u001b[0m\u001b[0mpermutation\u001b[0m\u001b[0;34m)\u001b[0m\u001b[0;34m\u001b[0m\n",
      "\u001b[0;34m\u001b[0m\u001b[0;34m\u001b[0m\n",
      "\u001b[0;34m\u001b[0m    \u001b[0;32mif\u001b[0m \u001b[0mtf\u001b[0m\u001b[0;34m.\u001b[0m\u001b[0mexecuting_eagerly\u001b[0m\u001b[0;34m(\u001b[0m\u001b[0;34m)\u001b[0m\u001b[0;34m:\u001b[0m\u001b[0;34m\u001b[0m\n",
      "\u001b[0;34m\u001b[0m      \u001b[0;31m# Full static shape is guaranteed to be available.\u001b[0m\u001b[0;34m\u001b[0m\n",
      "\u001b[0;34m\u001b[0m      \u001b[0;31m# Performance: Using `constant_op` is much faster than passing a list.\u001b[0m\u001b[0;34m\u001b[0m\n",
      "\u001b[0;34m\u001b[0m      \u001b[0mflattened_shape\u001b[0m \u001b[0;34m=\u001b[0m \u001b[0mtf\u001b[0m\u001b[0;34m.\u001b[0m\u001b[0mconstant\u001b[0m\u001b[0;34m(\u001b[0m\u001b[0;34m[\u001b[0m\u001b[0minputs\u001b[0m\u001b[0;34m.\u001b[0m\u001b[0mshape\u001b[0m\u001b[0;34m[\u001b[0m\u001b[0;36m0\u001b[0m\u001b[0;34m]\u001b[0m\u001b[0;34m,\u001b[0m \u001b[0;34m-\u001b[0m\u001b[0;36m1\u001b[0m\u001b[0;34m]\u001b[0m\u001b[0;34m)\u001b[0m\u001b[0;34m\u001b[0m\n",
      "\u001b[0;34m\u001b[0m      \u001b[0;32mreturn\u001b[0m \u001b[0mtf\u001b[0m\u001b[0;34m.\u001b[0m\u001b[0mreshape\u001b[0m\u001b[0;34m(\u001b[0m\u001b[0minputs\u001b[0m\u001b[0;34m,\u001b[0m \u001b[0mflattened_shape\u001b[0m\u001b[0;34m)\u001b[0m\u001b[0;34m\u001b[0m\n",
      "\u001b[0;34m\u001b[0m    \u001b[0;32melse\u001b[0m\u001b[0;34m:\u001b[0m\u001b[0;34m\u001b[0m\n",
      "\u001b[0;34m\u001b[0m      \u001b[0minput_shape\u001b[0m \u001b[0;34m=\u001b[0m \u001b[0minputs\u001b[0m\u001b[0;34m.\u001b[0m\u001b[0mshape\u001b[0m\u001b[0;34m\u001b[0m\n",
      "\u001b[0;34m\u001b[0m      \u001b[0mrank\u001b[0m \u001b[0;34m=\u001b[0m \u001b[0minput_shape\u001b[0m\u001b[0;34m.\u001b[0m\u001b[0mrank\u001b[0m\u001b[0;34m\u001b[0m\n",
      "\u001b[0;34m\u001b[0m      \u001b[0;32mif\u001b[0m \u001b[0mrank\u001b[0m \u001b[0;34m==\u001b[0m \u001b[0;36m1\u001b[0m\u001b[0;34m:\u001b[0m\u001b[0;34m\u001b[0m\n",
      "\u001b[0;34m\u001b[0m        \u001b[0;32mreturn\u001b[0m \u001b[0mtf\u001b[0m\u001b[0;34m.\u001b[0m\u001b[0mexpand_dims\u001b[0m\u001b[0;34m(\u001b[0m\u001b[0minputs\u001b[0m\u001b[0;34m,\u001b[0m \u001b[0maxis\u001b[0m\u001b[0;34m=\u001b[0m\u001b[0;36m1\u001b[0m\u001b[0;34m)\u001b[0m\u001b[0;34m\u001b[0m\n",
      "\u001b[0;34m\u001b[0m      \u001b[0;32melse\u001b[0m\u001b[0;34m:\u001b[0m\u001b[0;34m\u001b[0m\n",
      "\u001b[0;34m\u001b[0m        \u001b[0mbatch_dim\u001b[0m \u001b[0;34m=\u001b[0m \u001b[0mtf\u001b[0m\u001b[0;34m.\u001b[0m\u001b[0mcompat\u001b[0m\u001b[0;34m.\u001b[0m\u001b[0mdimension_value\u001b[0m\u001b[0;34m(\u001b[0m\u001b[0minput_shape\u001b[0m\u001b[0;34m[\u001b[0m\u001b[0;36m0\u001b[0m\u001b[0;34m]\u001b[0m\u001b[0;34m)\u001b[0m\u001b[0;34m\u001b[0m\n",
      "\u001b[0;34m\u001b[0m        \u001b[0mnon_batch_dims\u001b[0m \u001b[0;34m=\u001b[0m \u001b[0minput_shape\u001b[0m\u001b[0;34m[\u001b[0m\u001b[0;36m1\u001b[0m\u001b[0;34m:\u001b[0m\u001b[0;34m]\u001b[0m\u001b[0;34m\u001b[0m\n",
      "\u001b[0;34m\u001b[0m        \u001b[0;31m# Reshape in a way that preserves as much shape info as possible.\u001b[0m\u001b[0;34m\u001b[0m\n",
      "\u001b[0;34m\u001b[0m        \u001b[0;32mif\u001b[0m \u001b[0mnon_batch_dims\u001b[0m\u001b[0;34m.\u001b[0m\u001b[0mis_fully_defined\u001b[0m\u001b[0;34m(\u001b[0m\u001b[0;34m)\u001b[0m\u001b[0;34m:\u001b[0m\u001b[0;34m\u001b[0m\n",
      "\u001b[0;34m\u001b[0m          \u001b[0mlast_dim\u001b[0m \u001b[0;34m=\u001b[0m \u001b[0mint\u001b[0m\u001b[0;34m(\u001b[0m\u001b[0mfunctools\u001b[0m\u001b[0;34m.\u001b[0m\u001b[0mreduce\u001b[0m\u001b[0;34m(\u001b[0m\u001b[0moperator\u001b[0m\u001b[0;34m.\u001b[0m\u001b[0mmul\u001b[0m\u001b[0;34m,\u001b[0m \u001b[0mnon_batch_dims\u001b[0m\u001b[0;34m)\u001b[0m\u001b[0;34m)\u001b[0m\u001b[0;34m\u001b[0m\n",
      "\u001b[0;34m\u001b[0m          \u001b[0mflattened_shape\u001b[0m \u001b[0;34m=\u001b[0m \u001b[0mtf\u001b[0m\u001b[0;34m.\u001b[0m\u001b[0mconstant\u001b[0m\u001b[0;34m(\u001b[0m\u001b[0;34m[\u001b[0m\u001b[0;34m-\u001b[0m\u001b[0;36m1\u001b[0m\u001b[0;34m,\u001b[0m \u001b[0mlast_dim\u001b[0m\u001b[0;34m]\u001b[0m\u001b[0;34m)\u001b[0m\u001b[0;34m\u001b[0m\n",
      "\u001b[0;34m\u001b[0m        \u001b[0;32melif\u001b[0m \u001b[0mbatch_dim\u001b[0m \u001b[0;32mis\u001b[0m \u001b[0;32mnot\u001b[0m \u001b[0;32mNone\u001b[0m\u001b[0;34m:\u001b[0m\u001b[0;34m\u001b[0m\n",
      "\u001b[0;34m\u001b[0m          \u001b[0mflattened_shape\u001b[0m \u001b[0;34m=\u001b[0m \u001b[0mtf\u001b[0m\u001b[0;34m.\u001b[0m\u001b[0mconstant\u001b[0m\u001b[0;34m(\u001b[0m\u001b[0;34m[\u001b[0m\u001b[0mint\u001b[0m\u001b[0;34m(\u001b[0m\u001b[0mbatch_dim\u001b[0m\u001b[0;34m)\u001b[0m\u001b[0;34m,\u001b[0m \u001b[0;34m-\u001b[0m\u001b[0;36m1\u001b[0m\u001b[0;34m]\u001b[0m\u001b[0;34m)\u001b[0m\u001b[0;34m\u001b[0m\n",
      "\u001b[0;34m\u001b[0m        \u001b[0;32melse\u001b[0m\u001b[0;34m:\u001b[0m\u001b[0;34m\u001b[0m\n",
      "\u001b[0;34m\u001b[0m          \u001b[0mflattened_shape\u001b[0m \u001b[0;34m=\u001b[0m \u001b[0;34m[\u001b[0m\u001b[0mtf\u001b[0m\u001b[0;34m.\u001b[0m\u001b[0mshape\u001b[0m\u001b[0;34m(\u001b[0m\u001b[0minputs\u001b[0m\u001b[0;34m)\u001b[0m\u001b[0;34m[\u001b[0m\u001b[0;36m0\u001b[0m\u001b[0;34m]\u001b[0m\u001b[0;34m,\u001b[0m \u001b[0;34m-\u001b[0m\u001b[0;36m1\u001b[0m\u001b[0;34m]\u001b[0m\u001b[0;34m\u001b[0m\n",
      "\u001b[0;34m\u001b[0m        \u001b[0;32mreturn\u001b[0m \u001b[0mtf\u001b[0m\u001b[0;34m.\u001b[0m\u001b[0mreshape\u001b[0m\u001b[0;34m(\u001b[0m\u001b[0minputs\u001b[0m\u001b[0;34m,\u001b[0m \u001b[0mflattened_shape\u001b[0m\u001b[0;34m)\u001b[0m\u001b[0;34m\u001b[0m\n",
      "\u001b[0;34m\u001b[0m\u001b[0;34m\u001b[0m\n",
      "\u001b[0;34m\u001b[0m  \u001b[0;32mdef\u001b[0m \u001b[0mcompute_output_shape\u001b[0m\u001b[0;34m(\u001b[0m\u001b[0mself\u001b[0m\u001b[0;34m,\u001b[0m \u001b[0minput_shape\u001b[0m\u001b[0;34m)\u001b[0m\u001b[0;34m:\u001b[0m\u001b[0;34m\u001b[0m\n",
      "\u001b[0;34m\u001b[0m    \u001b[0minput_shape\u001b[0m \u001b[0;34m=\u001b[0m \u001b[0mtf\u001b[0m\u001b[0;34m.\u001b[0m\u001b[0mTensorShape\u001b[0m\u001b[0;34m(\u001b[0m\u001b[0minput_shape\u001b[0m\u001b[0;34m)\u001b[0m\u001b[0;34m.\u001b[0m\u001b[0mas_list\u001b[0m\u001b[0;34m(\u001b[0m\u001b[0;34m)\u001b[0m\u001b[0;34m\u001b[0m\n",
      "\u001b[0;34m\u001b[0m    \u001b[0;32mif\u001b[0m \u001b[0;32mnot\u001b[0m \u001b[0minput_shape\u001b[0m\u001b[0;34m:\u001b[0m\u001b[0;34m\u001b[0m\n",
      "\u001b[0;34m\u001b[0m      \u001b[0moutput_shape\u001b[0m \u001b[0;34m=\u001b[0m \u001b[0mtf\u001b[0m\u001b[0;34m.\u001b[0m\u001b[0mTensorShape\u001b[0m\u001b[0;34m(\u001b[0m\u001b[0;34m[\u001b[0m\u001b[0;36m1\u001b[0m\u001b[0;34m]\u001b[0m\u001b[0;34m)\u001b[0m\u001b[0;34m\u001b[0m\n",
      "\u001b[0;34m\u001b[0m    \u001b[0;32melse\u001b[0m\u001b[0;34m:\u001b[0m\u001b[0;34m\u001b[0m\n",
      "\u001b[0;34m\u001b[0m      \u001b[0moutput_shape\u001b[0m \u001b[0;34m=\u001b[0m \u001b[0;34m[\u001b[0m\u001b[0minput_shape\u001b[0m\u001b[0;34m[\u001b[0m\u001b[0;36m0\u001b[0m\u001b[0;34m]\u001b[0m\u001b[0;34m]\u001b[0m\u001b[0;34m\u001b[0m\n",
      "\u001b[0;34m\u001b[0m    \u001b[0;32mif\u001b[0m \u001b[0mnp\u001b[0m\u001b[0;34m.\u001b[0m\u001b[0mall\u001b[0m\u001b[0;34m(\u001b[0m\u001b[0minput_shape\u001b[0m\u001b[0;34m[\u001b[0m\u001b[0;36m1\u001b[0m\u001b[0;34m:\u001b[0m\u001b[0;34m]\u001b[0m\u001b[0;34m)\u001b[0m\u001b[0;34m:\u001b[0m\u001b[0;34m\u001b[0m\n",
      "\u001b[0;34m\u001b[0m      \u001b[0moutput_shape\u001b[0m \u001b[0;34m+=\u001b[0m \u001b[0;34m[\u001b[0m\u001b[0mnp\u001b[0m\u001b[0;34m.\u001b[0m\u001b[0mprod\u001b[0m\u001b[0;34m(\u001b[0m\u001b[0minput_shape\u001b[0m\u001b[0;34m[\u001b[0m\u001b[0;36m1\u001b[0m\u001b[0;34m:\u001b[0m\u001b[0;34m]\u001b[0m\u001b[0;34m,\u001b[0m \u001b[0mdtype\u001b[0m\u001b[0;34m=\u001b[0m\u001b[0mint\u001b[0m\u001b[0;34m)\u001b[0m\u001b[0;34m]\u001b[0m\u001b[0;34m\u001b[0m\n",
      "\u001b[0;34m\u001b[0m    \u001b[0;32melse\u001b[0m\u001b[0;34m:\u001b[0m\u001b[0;34m\u001b[0m\n",
      "\u001b[0;34m\u001b[0m      \u001b[0moutput_shape\u001b[0m \u001b[0;34m+=\u001b[0m \u001b[0;34m[\u001b[0m\u001b[0;32mNone\u001b[0m\u001b[0;34m]\u001b[0m\u001b[0;34m\u001b[0m\n",
      "\u001b[0;34m\u001b[0m    \u001b[0;32mreturn\u001b[0m \u001b[0mtf\u001b[0m\u001b[0;34m.\u001b[0m\u001b[0mTensorShape\u001b[0m\u001b[0;34m(\u001b[0m\u001b[0moutput_shape\u001b[0m\u001b[0;34m)\u001b[0m\u001b[0;34m\u001b[0m\n",
      "\u001b[0;34m\u001b[0m\u001b[0;34m\u001b[0m\n",
      "\u001b[0;34m\u001b[0m  \u001b[0;32mdef\u001b[0m \u001b[0mget_config\u001b[0m\u001b[0;34m(\u001b[0m\u001b[0mself\u001b[0m\u001b[0;34m)\u001b[0m\u001b[0;34m:\u001b[0m\u001b[0;34m\u001b[0m\n",
      "\u001b[0;34m\u001b[0m    \u001b[0mconfig\u001b[0m \u001b[0;34m=\u001b[0m \u001b[0msuper\u001b[0m\u001b[0;34m(\u001b[0m\u001b[0mFlatten\u001b[0m\u001b[0;34m,\u001b[0m \u001b[0mself\u001b[0m\u001b[0;34m)\u001b[0m\u001b[0;34m.\u001b[0m\u001b[0mget_config\u001b[0m\u001b[0;34m(\u001b[0m\u001b[0;34m)\u001b[0m\u001b[0;34m\u001b[0m\n",
      "\u001b[0;34m\u001b[0m    \u001b[0mconfig\u001b[0m\u001b[0;34m.\u001b[0m\u001b[0mupdate\u001b[0m\u001b[0;34m(\u001b[0m\u001b[0;34m{\u001b[0m\u001b[0;34m'data_format'\u001b[0m\u001b[0;34m:\u001b[0m \u001b[0mself\u001b[0m\u001b[0;34m.\u001b[0m\u001b[0mdata_format\u001b[0m\u001b[0;34m}\u001b[0m\u001b[0;34m)\u001b[0m\u001b[0;34m\u001b[0m\n",
      "\u001b[0;34m\u001b[0m    \u001b[0;32mreturn\u001b[0m \u001b[0mconfig\u001b[0m\u001b[0;34m\u001b[0m\u001b[0;34m\u001b[0m\u001b[0m\n",
      "\u001b[0;31mFile:\u001b[0m           ~/code/learn-tensorflow/TFCourse/lib/python3.10/site-packages/keras/layers/core/flatten.py\n",
      "\u001b[0;31mType:\u001b[0m           type\n",
      "\u001b[0;31mSubclasses:\u001b[0m     Flatten"
     ]
    }
   ],
   "source": [
    "tf.keras.layers.Flatten??"
   ]
  },
  {
   "attachments": {},
   "cell_type": "markdown",
   "metadata": {},
   "source": [
    "Define our model to be a sequential model with the following layers:\n",
    "1. A flatten layer to convert a 28x28 image (2D array of pixel intensities) to a 1D array\n",
    "2. A dense layer to process and extract features with an activation of relu\n",
    "3. An output layer (dense) with 10 cells corresponding to the 10 output classes with an activation of softmax to get the probabilities "
   ]
  },
  {
   "cell_type": "code",
   "execution_count": 9,
   "metadata": {},
   "outputs": [
    {
     "name": "stderr",
     "output_type": "stream",
     "text": [
      "2023-06-15 16:15:14.402242: I tensorflow/stream_executor/cuda/cuda_gpu_executor.cc:936] successful NUMA node read from SysFS had negative value (-1), but there must be at least one NUMA node, so returning NUMA node zero\n",
      "2023-06-15 16:15:14.402439: W tensorflow/stream_executor/platform/default/dso_loader.cc:64] Could not load dynamic library 'libcudart.so.11.0'; dlerror: libcudart.so.11.0: cannot open shared object file: No such file or directory\n",
      "2023-06-15 16:15:14.402489: W tensorflow/stream_executor/platform/default/dso_loader.cc:64] Could not load dynamic library 'libcublas.so.11'; dlerror: libcublas.so.11: cannot open shared object file: No such file or directory\n",
      "2023-06-15 16:15:14.402535: W tensorflow/stream_executor/platform/default/dso_loader.cc:64] Could not load dynamic library 'libcublasLt.so.11'; dlerror: libcublasLt.so.11: cannot open shared object file: No such file or directory\n",
      "2023-06-15 16:15:14.402579: W tensorflow/stream_executor/platform/default/dso_loader.cc:64] Could not load dynamic library 'libcufft.so.10'; dlerror: libcufft.so.10: cannot open shared object file: No such file or directory\n",
      "2023-06-15 16:15:14.428052: W tensorflow/stream_executor/platform/default/dso_loader.cc:64] Could not load dynamic library 'libcusparse.so.11'; dlerror: libcusparse.so.11: cannot open shared object file: No such file or directory\n",
      "2023-06-15 16:15:14.428114: W tensorflow/stream_executor/platform/default/dso_loader.cc:64] Could not load dynamic library 'libcudnn.so.8'; dlerror: libcudnn.so.8: cannot open shared object file: No such file or directory\n",
      "2023-06-15 16:15:14.428124: W tensorflow/core/common_runtime/gpu/gpu_device.cc:1850] Cannot dlopen some GPU libraries. Please make sure the missing libraries mentioned above are installed properly if you would like to use GPU. Follow the guide at https://www.tensorflow.org/install/gpu for how to download and setup the required libraries for your platform.\n",
      "Skipping registering GPU devices...\n",
      "2023-06-15 16:15:14.428524: I tensorflow/core/platform/cpu_feature_guard.cc:151] This TensorFlow binary is optimized with oneAPI Deep Neural Network Library (oneDNN) to use the following CPU instructions in performance-critical operations:  AVX2 FMA\n",
      "To enable them in other operations, rebuild TensorFlow with the appropriate compiler flags.\n"
     ]
    }
   ],
   "source": [
    "model = tf.keras.models.Sequential([\n",
    "        tf.keras.layers.Flatten(),\n",
    "        tf.keras.layers.Dense(128, activation=tf.nn.relu),\n",
    "        tf.keras.layers.Dense(10, activation=tf.nn.softmax)\n",
    "    ]\n",
    ")"
   ]
  },
  {
   "attachments": {},
   "cell_type": "markdown",
   "metadata": {},
   "source": [
    "Now, compiling the model using the `Adam` optimiser and sparse categorical cross-entropy as our loss metric."
   ]
  },
  {
   "cell_type": "code",
   "execution_count": 10,
   "metadata": {},
   "outputs": [],
   "source": [
    "model.compile(\n",
    "    optimizer=tf.optimizers.Adam(),\n",
    "    loss='sparse_categorical_crossentropy',\n",
    "    # These'll show at the side of each epoch in the training output\n",
    "    metrics=['Accuracy']\n",
    ")"
   ]
  },
  {
   "attachments": {},
   "cell_type": "markdown",
   "metadata": {},
   "source": [
    "Training the model now for a specified number of epochs. It's worth changing this number to see how the training and testing accuracies are affected. "
   ]
  },
  {
   "cell_type": "code",
   "execution_count": 11,
   "metadata": {},
   "outputs": [
    {
     "name": "stdout",
     "output_type": "stream",
     "text": [
      "Epoch 1/100\n",
      "1875/1875 [==============================] - 2s 891us/step - loss: 0.5021 - Accuracy: 0.8241\n",
      "Epoch 2/100\n",
      "1875/1875 [==============================] - 2s 920us/step - loss: 0.3816 - Accuracy: 0.8632\n",
      "Epoch 3/100\n",
      "1875/1875 [==============================] - 2s 1ms/step - loss: 0.3410 - Accuracy: 0.8760\n",
      "Epoch 4/100\n",
      "1875/1875 [==============================] - 2s 1ms/step - loss: 0.3166 - Accuracy: 0.8839\n",
      "Epoch 5/100\n",
      "1875/1875 [==============================] - 2s 1ms/step - loss: 0.2975 - Accuracy: 0.8911\n",
      "Epoch 6/100\n",
      "1875/1875 [==============================] - 2s 913us/step - loss: 0.2843 - Accuracy: 0.8941\n",
      "Epoch 7/100\n",
      "1875/1875 [==============================] - 2s 859us/step - loss: 0.2733 - Accuracy: 0.8995\n",
      "Epoch 8/100\n",
      "1875/1875 [==============================] - 2s 853us/step - loss: 0.2612 - Accuracy: 0.9018\n",
      "Epoch 9/100\n",
      "1875/1875 [==============================] - 2s 881us/step - loss: 0.2507 - Accuracy: 0.9065\n",
      "Epoch 10/100\n",
      "1875/1875 [==============================] - 2s 883us/step - loss: 0.2423 - Accuracy: 0.9098\n",
      "Epoch 11/100\n",
      "1875/1875 [==============================] - 2s 917us/step - loss: 0.2328 - Accuracy: 0.9126\n",
      "Epoch 12/100\n",
      "1875/1875 [==============================] - 2s 940us/step - loss: 0.2289 - Accuracy: 0.9146\n",
      "Epoch 13/100\n",
      "1875/1875 [==============================] - 2s 924us/step - loss: 0.2196 - Accuracy: 0.9181\n",
      "Epoch 14/100\n",
      "1875/1875 [==============================] - 2s 886us/step - loss: 0.2134 - Accuracy: 0.9195\n",
      "Epoch 15/100\n",
      "1875/1875 [==============================] - 1s 799us/step - loss: 0.2087 - Accuracy: 0.9217\n",
      "Epoch 16/100\n",
      "1875/1875 [==============================] - 2s 848us/step - loss: 0.2019 - Accuracy: 0.9245\n",
      "Epoch 17/100\n",
      "1875/1875 [==============================] - 2s 827us/step - loss: 0.1967 - Accuracy: 0.9261\n",
      "Epoch 18/100\n",
      "1875/1875 [==============================] - 2s 810us/step - loss: 0.1911 - Accuracy: 0.9282\n",
      "Epoch 19/100\n",
      "1875/1875 [==============================] - 1s 761us/step - loss: 0.1835 - Accuracy: 0.9300\n",
      "Epoch 20/100\n",
      "1875/1875 [==============================] - 2s 804us/step - loss: 0.1821 - Accuracy: 0.9319\n",
      "Epoch 21/100\n",
      "1875/1875 [==============================] - 2s 810us/step - loss: 0.1776 - Accuracy: 0.9321\n",
      "Epoch 22/100\n",
      "1875/1875 [==============================] - 2s 831us/step - loss: 0.1739 - Accuracy: 0.9359\n",
      "Epoch 23/100\n",
      "1875/1875 [==============================] - 2s 848us/step - loss: 0.1690 - Accuracy: 0.9360\n",
      "Epoch 24/100\n",
      "1875/1875 [==============================] - 2s 841us/step - loss: 0.1624 - Accuracy: 0.9381\n",
      "Epoch 25/100\n",
      "1875/1875 [==============================] - 2s 819us/step - loss: 0.1619 - Accuracy: 0.9387\n",
      "Epoch 26/100\n",
      "1875/1875 [==============================] - 1s 798us/step - loss: 0.1579 - Accuracy: 0.9399\n",
      "Epoch 27/100\n",
      "1875/1875 [==============================] - 1s 789us/step - loss: 0.1531 - Accuracy: 0.9427\n",
      "Epoch 28/100\n",
      "1875/1875 [==============================] - 1s 789us/step - loss: 0.1502 - Accuracy: 0.9435\n",
      "Epoch 29/100\n",
      "1875/1875 [==============================] - 2s 864us/step - loss: 0.1472 - Accuracy: 0.9448\n",
      "Epoch 30/100\n",
      "1875/1875 [==============================] - 2s 913us/step - loss: 0.1444 - Accuracy: 0.9455\n",
      "Epoch 31/100\n",
      "1875/1875 [==============================] - 2s 806us/step - loss: 0.1428 - Accuracy: 0.9467\n",
      "Epoch 32/100\n",
      "1875/1875 [==============================] - 1s 768us/step - loss: 0.1384 - Accuracy: 0.9479\n",
      "Epoch 33/100\n",
      "1875/1875 [==============================] - 1s 685us/step - loss: 0.1385 - Accuracy: 0.9482\n",
      "Epoch 34/100\n",
      "1875/1875 [==============================] - 1s 766us/step - loss: 0.1347 - Accuracy: 0.9493\n",
      "Epoch 35/100\n",
      "1875/1875 [==============================] - 1s 765us/step - loss: 0.1295 - Accuracy: 0.9513\n",
      "Epoch 36/100\n",
      "1875/1875 [==============================] - 1s 759us/step - loss: 0.1282 - Accuracy: 0.9517\n",
      "Epoch 37/100\n",
      "1875/1875 [==============================] - 1s 782us/step - loss: 0.1245 - Accuracy: 0.9532\n",
      "Epoch 38/100\n",
      "1875/1875 [==============================] - 1s 789us/step - loss: 0.1231 - Accuracy: 0.9545\n",
      "Epoch 39/100\n",
      "1875/1875 [==============================] - 1s 732us/step - loss: 0.1225 - Accuracy: 0.9541\n",
      "Epoch 40/100\n",
      "1875/1875 [==============================] - 1s 749us/step - loss: 0.1218 - Accuracy: 0.9547\n",
      "Epoch 41/100\n",
      "1875/1875 [==============================] - 1s 768us/step - loss: 0.1155 - Accuracy: 0.9569\n",
      "Epoch 42/100\n",
      "1875/1875 [==============================] - 1s 769us/step - loss: 0.1144 - Accuracy: 0.9571\n",
      "Epoch 43/100\n",
      "1875/1875 [==============================] - 1s 747us/step - loss: 0.1122 - Accuracy: 0.9583\n",
      "Epoch 44/100\n",
      "1875/1875 [==============================] - 1s 742us/step - loss: 0.1117 - Accuracy: 0.9577\n",
      "Epoch 45/100\n",
      "1875/1875 [==============================] - 1s 778us/step - loss: 0.1084 - Accuracy: 0.9601\n",
      "Epoch 46/100\n",
      "1875/1875 [==============================] - 2s 941us/step - loss: 0.1070 - Accuracy: 0.9603\n",
      "Epoch 47/100\n",
      "1875/1875 [==============================] - 2s 871us/step - loss: 0.1054 - Accuracy: 0.9607\n",
      "Epoch 48/100\n",
      "1875/1875 [==============================] - 2s 933us/step - loss: 0.1031 - Accuracy: 0.9614\n",
      "Epoch 49/100\n",
      "1875/1875 [==============================] - 2s 972us/step - loss: 0.1020 - Accuracy: 0.9613\n",
      "Epoch 50/100\n",
      "1875/1875 [==============================] - 2s 882us/step - loss: 0.1006 - Accuracy: 0.9623\n",
      "Epoch 51/100\n",
      "1875/1875 [==============================] - 2s 818us/step - loss: 0.0975 - Accuracy: 0.9634\n",
      "Epoch 52/100\n",
      "1875/1875 [==============================] - 2s 870us/step - loss: 0.0969 - Accuracy: 0.9643\n",
      "Epoch 53/100\n",
      "1875/1875 [==============================] - 2s 930us/step - loss: 0.0967 - Accuracy: 0.9640\n",
      "Epoch 54/100\n",
      "1875/1875 [==============================] - 2s 804us/step - loss: 0.0956 - Accuracy: 0.9643\n",
      "Epoch 55/100\n",
      "1875/1875 [==============================] - 2s 878us/step - loss: 0.0919 - Accuracy: 0.9651\n",
      "Epoch 56/100\n",
      "1875/1875 [==============================] - 2s 820us/step - loss: 0.0921 - Accuracy: 0.9662\n",
      "Epoch 57/100\n",
      "1875/1875 [==============================] - 1s 761us/step - loss: 0.0892 - Accuracy: 0.9664\n",
      "Epoch 58/100\n",
      "1875/1875 [==============================] - 1s 761us/step - loss: 0.0880 - Accuracy: 0.9674\n",
      "Epoch 59/100\n",
      "1875/1875 [==============================] - 1s 741us/step - loss: 0.0860 - Accuracy: 0.9678\n",
      "Epoch 60/100\n",
      "1875/1875 [==============================] - 1s 786us/step - loss: 0.0871 - Accuracy: 0.9678\n",
      "Epoch 61/100\n",
      "1875/1875 [==============================] - 1s 749us/step - loss: 0.0837 - Accuracy: 0.9689\n",
      "Epoch 62/100\n",
      "1875/1875 [==============================] - 1s 740us/step - loss: 0.0837 - Accuracy: 0.9685\n",
      "Epoch 63/100\n",
      "1875/1875 [==============================] - 1s 740us/step - loss: 0.0821 - Accuracy: 0.9694\n",
      "Epoch 64/100\n",
      "1875/1875 [==============================] - 1s 752us/step - loss: 0.0806 - Accuracy: 0.9704\n",
      "Epoch 65/100\n",
      "1875/1875 [==============================] - 1s 751us/step - loss: 0.0820 - Accuracy: 0.9694\n",
      "Epoch 66/100\n",
      "1875/1875 [==============================] - 1s 741us/step - loss: 0.0779 - Accuracy: 0.9709\n",
      "Epoch 67/100\n",
      "1875/1875 [==============================] - 1s 757us/step - loss: 0.0777 - Accuracy: 0.9707\n",
      "Epoch 68/100\n",
      "1875/1875 [==============================] - 1s 756us/step - loss: 0.0777 - Accuracy: 0.9714\n",
      "Epoch 69/100\n",
      "1875/1875 [==============================] - 1s 752us/step - loss: 0.0760 - Accuracy: 0.9715\n",
      "Epoch 70/100\n",
      "1875/1875 [==============================] - 1s 757us/step - loss: 0.0760 - Accuracy: 0.9722\n",
      "Epoch 71/100\n",
      "1875/1875 [==============================] - 1s 790us/step - loss: 0.0753 - Accuracy: 0.9718\n",
      "Epoch 72/100\n",
      "1875/1875 [==============================] - 2s 914us/step - loss: 0.0730 - Accuracy: 0.9732\n",
      "Epoch 73/100\n",
      "1875/1875 [==============================] - 2s 926us/step - loss: 0.0740 - Accuracy: 0.9726\n",
      "Epoch 74/100\n",
      "1875/1875 [==============================] - 2s 897us/step - loss: 0.0708 - Accuracy: 0.9735\n",
      "Epoch 75/100\n",
      "1875/1875 [==============================] - 2s 939us/step - loss: 0.0710 - Accuracy: 0.9733\n",
      "Epoch 76/100\n",
      "1875/1875 [==============================] - 2s 831us/step - loss: 0.0728 - Accuracy: 0.9732\n",
      "Epoch 77/100\n",
      "1875/1875 [==============================] - 1s 798us/step - loss: 0.0691 - Accuracy: 0.9750\n",
      "Epoch 78/100\n",
      "1875/1875 [==============================] - 2s 882us/step - loss: 0.0705 - Accuracy: 0.9740\n",
      "Epoch 79/100\n",
      "1875/1875 [==============================] - 2s 801us/step - loss: 0.0667 - Accuracy: 0.9752\n",
      "Epoch 80/100\n",
      "1875/1875 [==============================] - 2s 869us/step - loss: 0.0666 - Accuracy: 0.9751\n",
      "Epoch 81/100\n",
      "1875/1875 [==============================] - 2s 949us/step - loss: 0.0668 - Accuracy: 0.9752\n",
      "Epoch 82/100\n",
      "1875/1875 [==============================] - 2s 885us/step - loss: 0.0631 - Accuracy: 0.9762\n",
      "Epoch 83/100\n",
      "1875/1875 [==============================] - 2s 849us/step - loss: 0.0638 - Accuracy: 0.9767\n",
      "Epoch 84/100\n",
      "1875/1875 [==============================] - 2s 817us/step - loss: 0.0653 - Accuracy: 0.9760\n",
      "Epoch 85/100\n",
      "1875/1875 [==============================] - 1s 766us/step - loss: 0.0628 - Accuracy: 0.9761\n",
      "Epoch 86/100\n",
      "1875/1875 [==============================] - 1s 717us/step - loss: 0.0646 - Accuracy: 0.9762\n",
      "Epoch 87/100\n",
      "1875/1875 [==============================] - 2s 978us/step - loss: 0.0611 - Accuracy: 0.9762\n",
      "Epoch 88/100\n",
      "1875/1875 [==============================] - 2s 818us/step - loss: 0.0637 - Accuracy: 0.9768\n",
      "Epoch 89/100\n",
      "1875/1875 [==============================] - 1s 725us/step - loss: 0.0590 - Accuracy: 0.9782\n",
      "Epoch 90/100\n",
      "1875/1875 [==============================] - 1s 739us/step - loss: 0.0625 - Accuracy: 0.9767\n",
      "Epoch 91/100\n",
      "1875/1875 [==============================] - 1s 788us/step - loss: 0.0589 - Accuracy: 0.9781\n",
      "Epoch 92/100\n",
      "1875/1875 [==============================] - 1s 768us/step - loss: 0.0556 - Accuracy: 0.9797\n",
      "Epoch 93/100\n",
      "1875/1875 [==============================] - 1s 756us/step - loss: 0.0616 - Accuracy: 0.9775\n",
      "Epoch 94/100\n",
      "1875/1875 [==============================] - 1s 740us/step - loss: 0.0581 - Accuracy: 0.9785\n",
      "Epoch 95/100\n",
      "1875/1875 [==============================] - 1s 778us/step - loss: 0.0582 - Accuracy: 0.9789\n",
      "Epoch 96/100\n",
      "1875/1875 [==============================] - 1s 744us/step - loss: 0.0554 - Accuracy: 0.9793\n",
      "Epoch 97/100\n",
      "1875/1875 [==============================] - 1s 766us/step - loss: 0.0566 - Accuracy: 0.9790\n",
      "Epoch 98/100\n",
      "1875/1875 [==============================] - 1s 772us/step - loss: 0.0545 - Accuracy: 0.9803\n",
      "Epoch 99/100\n",
      "1875/1875 [==============================] - 1s 763us/step - loss: 0.0528 - Accuracy: 0.9805\n",
      "Epoch 100/100\n",
      "1875/1875 [==============================] - 1s 750us/step - loss: 0.0560 - Accuracy: 0.9792\n"
     ]
    },
    {
     "data": {
      "text/plain": [
       "<keras.callbacks.History at 0x7f4a2e7f7670>"
      ]
     },
     "execution_count": 11,
     "metadata": {},
     "output_type": "execute_result"
    }
   ],
   "source": [
    "EPOCHS = 100\n",
    "history = model.fit(XTrain, yTrain, epochs=EPOCHS)"
   ]
  },
  {
   "attachments": {},
   "cell_type": "markdown",
   "metadata": {},
   "source": [
    "Checking the loss and accuracy of the testing data to see whether our model has overfit or not. It's of the form `[loss, accuracy]`."
   ]
  },
  {
   "cell_type": "code",
   "execution_count": 12,
   "metadata": {},
   "outputs": [
    {
     "name": "stdout",
     "output_type": "stream",
     "text": [
      "313/313 [==============================] - 0s 571us/step - loss: 0.7998 - Accuracy: 0.8834\n"
     ]
    },
    {
     "data": {
      "text/plain": [
       "[0.7998446822166443, 0.883400022983551]"
      ]
     },
     "execution_count": 12,
     "metadata": {},
     "output_type": "execute_result"
    }
   ],
   "source": [
    "model.evaluate(XTest, yTest)"
   ]
  },
  {
   "cell_type": "code",
   "execution_count": 13,
   "metadata": {},
   "outputs": [
    {
     "data": {
      "text/plain": [
       "(28, 28)"
      ]
     },
     "execution_count": 13,
     "metadata": {},
     "output_type": "execute_result"
    }
   ],
   "source": [
    "image.shape"
   ]
  },
  {
   "cell_type": "code",
   "execution_count": 14,
   "metadata": {},
   "outputs": [
    {
     "data": {
      "text/plain": [
       "(1, 28, 28)"
      ]
     },
     "execution_count": 14,
     "metadata": {},
     "output_type": "execute_result"
    }
   ],
   "source": [
    "image = np.expand_dims(image, axis=0)\n",
    "image.shape"
   ]
  },
  {
   "cell_type": "code",
   "execution_count": 15,
   "metadata": {},
   "outputs": [],
   "source": [
    "predictions = model.predict(image)"
   ]
  },
  {
   "cell_type": "code",
   "execution_count": 16,
   "metadata": {},
   "outputs": [
    {
     "data": {
      "text/plain": [
       "(array([[0., 0., 0., 0., 0., 0., 1., 0., 0., 0.]], dtype=float32), (1, 10))"
      ]
     },
     "execution_count": 16,
     "metadata": {},
     "output_type": "execute_result"
    }
   ],
   "source": [
    "predictions, predictions.shape"
   ]
  },
  {
   "cell_type": "code",
   "execution_count": 17,
   "metadata": {},
   "outputs": [
    {
     "name": "stdout",
     "output_type": "stream",
     "text": [
      "True Label: 6\n",
      "Predicted Label: 6\n"
     ]
    }
   ],
   "source": [
    "print(f'True Label: {label}\\nPredicted Label: {np.argmax(predictions)}')"
   ]
  },
  {
   "cell_type": "code",
   "execution_count": 18,
   "metadata": {},
   "outputs": [
    {
     "ename": "NameError",
     "evalue": "name 'history' is not defined",
     "output_type": "error",
     "traceback": [
      "\u001b[0;31m---------------------------------------------------------------------------\u001b[0m",
      "\u001b[0;31mNameError\u001b[0m                                 Traceback (most recent call last)",
      "Cell \u001b[0;32mIn[18], line 2\u001b[0m\n\u001b[1;32m      1\u001b[0m \u001b[39m# Access the accuracy values for each epoch\u001b[39;00m\n\u001b[0;32m----> 2\u001b[0m accuracyLog \u001b[39m=\u001b[39m history\u001b[39m.\u001b[39mhistory[\u001b[39m'\u001b[39m\u001b[39maccuracy\u001b[39m\u001b[39m'\u001b[39m]\n",
      "\u001b[0;31mNameError\u001b[0m: name 'history' is not defined"
     ]
    }
   ],
   "source": [
    "# Access the accuracy values for each epoch\n",
    "accuracyLog = history.history['accuracy']"
   ]
  },
  {
   "cell_type": "code",
   "execution_count": null,
   "metadata": {},
   "outputs": [],
   "source": [
    "# Plot the accuracy values\n",
    "plt.plot(range(1, EPOCHS + 1), EPOCHS)\n",
    "plt.title('Training Accuracy')\n",
    "plt.xlabel('Epoch')\n",
    "plt.ylabel('Accuracy')\n",
    "plt.show()"
   ]
  },
  {
   "cell_type": "markdown",
   "metadata": {},
   "source": [
    "---"
   ]
  }
 ],
 "metadata": {
  "kernelspec": {
   "display_name": "TFCourse",
   "language": "python",
   "name": "tfcourse"
  },
  "language_info": {
   "codemirror_mode": {
    "name": "ipython",
    "version": 3
   },
   "file_extension": ".py",
   "mimetype": "text/x-python",
   "name": "python",
   "nbconvert_exporter": "python",
   "pygments_lexer": "ipython3",
   "version": "3.10.9"
  },
  "orig_nbformat": 4
 },
 "nbformat": 4,
 "nbformat_minor": 2
}
