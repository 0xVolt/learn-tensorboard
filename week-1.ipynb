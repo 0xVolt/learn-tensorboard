{
 "cells": [
  {
   "attachments": {},
   "cell_type": "markdown",
   "metadata": {},
   "source": [
    "# Paradigm Shift\n",
    "\n",
    "Traditional programming has always revolved around the creation of rules for specific environments, ensuring their robustness and seamless translation into code. Programmers would meticulously devise these rules, accessing relevant data from a source, and subsequently compute the appropriate output based on user requirements.\n",
    "\n",
    "However, the advent of machine learning has ushered in a transformative shift. We are no longer bound to explicitly defining these rules in code to obtain desired outputs. Instead, we empower machines by providing them with data and examples that exemplify the desired behavior of the system—essentially, what we expect the output to be.\n",
    "\n",
    "By leveraging these examples, machines employ pattern recognition techniques to implicitly identify the underlying rules and adapt their responses accordingly, aligning with the provided examples.\n",
    "\n",
    "This paradigm shift necessitates the transmission of data and exemplary answers to the machine, enabling the generation of system rules. It represents a re-imagining of traditional programming methodologies, reconfiguring the way we approach rule-based coding practices. The following diagram visually encapsulates this transformative process.\n",
    "\n",
    "<div style=\"text-align:center\">\n",
    "    <img src=\"./assets/images/paradigm.png\" alt=\"Image\" />\n",
    "    <p><em>Fig 1: The shift in paradigm from traditional programming to machine learning</em></p>\n",
    "</div>"
   ]
  },
  {
   "attachments": {},
   "cell_type": "markdown",
   "metadata": {},
   "source": [
    "# The `Hello World!` of Deep Learning\n",
    "\n",
    "Machine learning aims to understand the pattern behind certain data. Our first `tensorflow` program does just that for two sets of numbers, `x` and `y`. In the program, we implement a singular neuron with a loss function and an optimiser to find out the relationship (function) that maps the sets `x` and `y`.\n",
    "\n"
   ]
  }
 ],
 "metadata": {
  "language_info": {
   "name": "python"
  },
  "orig_nbformat": 4
 },
 "nbformat": 4,
 "nbformat_minor": 2
}
